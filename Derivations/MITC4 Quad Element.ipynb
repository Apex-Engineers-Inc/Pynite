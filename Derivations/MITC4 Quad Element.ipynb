{
 "cells": [
  {
   "cell_type": "code",
   "execution_count": null,
   "metadata": {},
   "outputs": [],
   "source": [
    "from numpy import array\n",
    "from sympy import symbols, Eq, Matrix, diff, Derivative, simplify, factor, expand, latex, init_printing, collect\n",
    "init_printing()\n",
    "from IPython.display import display, Math"
   ]
  },
  {
   "cell_type": "markdown",
   "metadata": {},
   "source": [
    "## Define the interpolation functions"
   ]
  },
  {
   "cell_type": "code",
   "execution_count": null,
   "metadata": {},
   "outputs": [],
   "source": [
    "x1, y1, x2, y2, x3, y3, x4, y4 = symbols('x_1, y_1, x_2, y_2, x_3, y_3, x_4, y_4')\n",
    "r, s = symbols('r, s')\n",
    "\n",
    "# Define the interpolation functions\n",
    "h1 = factor(1/4*(1+r)*(1+s))\n",
    "h2 = factor(1/4*(1-r)*(1+s))\n",
    "h3 = factor(1/4*(1-r)*(1-s))\n",
    "h4 = factor(1/4*(1+r)*(1-s))\n",
    "\n",
    "display(Math('h_1 = ' + latex(h1)))\n",
    "display(Math('h_2 = ' + latex(h2)))\n",
    "display(Math('h_2 = ' + latex(h3)))\n",
    "display(Math('h_2 = ' + latex(h4)))"
   ]
  },
  {
   "cell_type": "markdown",
   "metadata": {},
   "source": [
    "# Relate the (x, y) Local Coordinate System to the (r, s) Natural Coordinate System"
   ]
  },
  {
   "cell_type": "code",
   "execution_count": null,
   "metadata": {},
   "outputs": [],
   "source": [
    "# Relate the (x, y) coordinate system to the (r, s) coordinate system\n",
    "x = h1*x1 + h2*x2 + h3*x3 + h4*x4\n",
    "y = h1*y1 + h2*y2 + h3*y3 + h4*y4\n",
    "\n",
    "display(Math('x = ' + latex(x)))\n",
    "display(Math('y = ' + latex(y)))"
   ]
  },
  {
   "cell_type": "markdown",
   "metadata": {},
   "source": [
    "# Find the Jacobian Matrix\n",
    "The Jacobian matrix converts derivatives with respect to x and y into derivatives with respect to r and s\n",
    "\n",
    "$J = \\begin{bmatrix} \\frac{dx}{dr} & \\frac{dy}{dr} \\\\ \\frac{dx}{ds} & \\frac{dy}{ds} \\end{bmatrix}$"
   ]
  },
  {
   "cell_type": "code",
   "execution_count": null,
   "metadata": {},
   "outputs": [],
   "source": [
    "# Calculate the Jacobian matrix\n",
    "J = Matrix([[diff(x, r), diff(y, r)],\n",
    "            [diff(x, s), diff(y, s)]])\n",
    "\n",
    "display(Math('J = ' + latex(factor(J))))"
   ]
  },
  {
   "cell_type": "code",
   "execution_count": null,
   "metadata": {},
   "outputs": [],
   "source": [
    "B_kappa = Matrix([[0,      0,      -diff(h1, r), 0,      0,      -diff(h2, r), 0,      0,      -diff(h2, r), 0,      0,      -diff(h4, r)],\n",
    "                  [0, diff(h1, s),       0,      0, diff(h2, s),       0,      0, diff(h3, s),       0,      0, diff(h4, s),       0     ],\n",
    "                  [0, diff(h1, r), -diff(h1, s), 0, diff(h2, r), -diff(h2, s), 0, diff(h3, r), -diff(h3, s), 0, diff(h4, r), -diff(h4, s)]])\n",
    "\n",
    "display(Math('B_\\kappa = J^{-1}(1/4)' + latex(B_kappa*4)))"
   ]
  },
  {
   "cell_type": "code",
   "execution_count": null,
   "metadata": {},
   "outputs": [],
   "source": [
    "dH = Matrix([[diff(h1, r), diff(h2, r), diff(h3, r), diff(h4, r)],\n",
    "             [diff(h1, s), diff(h2, s), diff(h3, s), diff(h4, s)]])\n",
    "\n",
    "B_m = Matrix([[diff(h1, r),      0,      diff(h2, r),      0,      diff(h3, r),      0,      diff(h4, r),      0     ],\n",
    "              [     0,      diff(h1, s),      0,      diff(h2, s),      0,      diff(h3, s),      0,      diff(h4, s)],\n",
    "              [diff(h1, s), diff(h1, r), diff(h2, s), diff(h2, r), diff(h3, s), diff(h3, r), diff(h4, s), diff(h4, r)]])\n",
    "\n",
    "display(Math('dH = (1/4)' + latex(dH*4)))\n",
    "display(Math('B_m = J^{-1}(1/4)' + latex(B_m*4)))\n",
    "print(B_m*4)"
   ]
  },
  {
   "cell_type": "markdown",
   "metadata": {},
   "source": [
    "# Calculate the Tensor Shear Strain Components\n",
    "The tensor shear strain components can be calculated using Reference 1, equations 5.102:\n",
    "\n",
    "$\\gamma_{xz}=\\gamma_{rz}sin{\\beta}-\\gamma_{sz}sin{\\alpha}$\n",
    "\n",
    "$\\gamma_{yz}=-\\gamma_{rz}cos{\\beta}+\\gamma_{sz}cos{\\alpha}$\n",
    "\n",
    "Where the valus for $\\gamma_{rz}$ and $\\gamma_{sz}$ can be found from equations 5.103:\n",
    "\n",
    "$\\gamma_{rz}=\\frac{\\sqrt{(C_x+rB_x)^2+(C_y+rB_y)^2}}{8|J|}([1+s][\\frac{w_1-w_2}{2}+\\frac{x_1-x_2}{4}(\\theta_y^1+\\theta_y^2)-\\frac{y_1-y_2}{4}(\\theta_x^1+\\theta_x^2)]+[1-s][\\frac{w_4-w_3}{2}+\\frac{x_4-x_3}{4}(\\theta_y^4+\\theta_y^3)-\\frac{y_4-y_3}{4}(\\theta_x^4+\\theta_x^3)])$\n",
    "\n",
    "$\\gamma_{sz}=\\frac{\\sqrt{(A_x+sB_x)^2+(A_y+sB_y)^2}}{8|J|}([1+r][\\frac{w_1-w_4}{2}+\\frac{x_1-x_4}{4}(\\theta_y^1+\\theta_y^4)-\\frac{y_1-y_4}{4}(\\theta_x^1+\\theta_x^4)]+[1-r][\\frac{w_2-w_3}{2}+\\frac{x_2-x_3}{4}(\\theta_y^2+\\theta_y^3)-\\frac{y_2-y_3}{4}(\\theta_x^2+\\theta_x^3)])$\n",
    "\n",
    "In order to express the tensor shear strains in matrix form we'll need to collect the terms associated with the displacement matrix [d]. The coefficients associated with these terms form the [B] matrix for shear.\n",
    "\n",
    "$\\gamma = \\begin{bmatrix} \\gamma_{xz} \\\\ \\gamma_{yz} \\end{bmatrix} = \\begin{bmatrix} B_{\\gamma_{xz}} \\\\ B_{\\gamma_{yz}} \\end{bmatrix} \\begin{bmatrix} w_1 \\\\ \\theta_x^1 \\\\ \\theta_y^1 \\\\ w_2 \\\\ \\theta_x^2 \\\\ \\theta_y^2 \\\\ w_3 \\\\ \\theta_x^3 \\\\ \\theta_y^3 \\\\ w_4 \\\\ \\theta_x^4 \\\\ \\theta_y^4 \\end{bmatrix}$\n",
    "\n",
    "It's easier to convert $\\gamma_{rz}$ and $\\gamma_{sz}$ (as opposed to $\\gamma_{xz}$ and $\\gamma_{yz}$) into matrix format by collecting [d] terms, and then apply equations 5.102 afterward:"
   ]
  },
  {
   "cell_type": "code",
   "execution_count": null,
   "metadata": {},
   "outputs": [],
   "source": [
    "r, s = symbols('r, s')\n",
    "h = symbols('h')\n",
    "x1, x2, x3, x4 = symbols('x1, x2, x3, x4')\n",
    "y1, y2, y3, y4 = symbols('y1, y2, y3, y4')\n",
    "w1, w2, w3, w4 = symbols('w1, w2, w3, w4')\n",
    "theta_x1, theta_x2, theta_x3, theta_x4 = symbols('theta_x1, theta_x2, theta_x3, theta_x4')\n",
    "theta_y1, theta_y2, theta_y3, theta_y4 = symbols('theta_y1, theta_y2, theta_y3, theta_y4')\n",
    "\n",
    "gamma_rz_terms = (1 + s)*((w1 - w2)/2 + (x1 - x2)/4*(theta_y1 + theta_y2) - (y1 - y2)/4*(theta_x1 + theta_x2)) \\\n",
    "               + (1 - s)*((w4 - w3)/2 + (x4 - x3)/4*(theta_y4 + theta_y3) - (y4 - y3)/4*(theta_x4 + theta_x3))\n",
    "\n",
    "gamma_sz_terms = (1 + r)*((w1 - w4)/2 + (x1 - x4)/4*(theta_y1 + theta_y4) - (y1 - y4)/4*(theta_x1 + theta_x4)) \\\n",
    "                 + (1 - r)*((w2 - w3)/2 + (x2 - x3)/4*(theta_y2 + theta_y3) - (y2 - y3)/4*(theta_x2 + theta_x3))\n",
    "\n",
    "display(1/4*collect(expand(gamma_rz_terms*4), [w1, theta_x1, theta_y1, w2, theta_x2, theta_y2, w3, theta_x3, theta_y3, w4, theta_x4, theta_y4]))\n",
    "print('')\n",
    "display(1/4*collect(expand(gamma_sz_terms*4), [w1, theta_x1, theta_y1, w2, theta_x2, theta_y2, w3, theta_x3, theta_y3, w4, theta_x4, theta_y4]))"
   ]
  },
  {
   "cell_type": "markdown",
   "metadata": {},
   "source": [
    "# References\n",
    "\n",
    "The following references were used in the formulation of this element. The primary reference was the first one because it had a section directly relating to isoparametric general plate bending elements, but all three were used. The first reference is a free download from MIT's website.\n",
    "\n",
    "1. \"Finite Element Procedures, 2nd Edition\", Klaus-Jurgen Bathe\n",
    "2. \"Finite Element Analysis Fundamentals\", Richard H. Gallagher\n",
    "3. \"A First Course in the Finite Element Method, 4th Edition\", Daryl L. Logan"
   ]
  }
 ],
 "metadata": {
  "kernelspec": {
   "display_name": "Python 3",
   "language": "python",
   "name": "python3"
  },
  "language_info": {
   "codemirror_mode": {
    "name": "ipython",
    "version": 3
   },
   "file_extension": ".py",
   "mimetype": "text/x-python",
   "name": "python",
   "nbconvert_exporter": "python",
   "pygments_lexer": "ipython3",
   "version": "3.8.3"
  }
 },
 "nbformat": 4,
 "nbformat_minor": 4
}
